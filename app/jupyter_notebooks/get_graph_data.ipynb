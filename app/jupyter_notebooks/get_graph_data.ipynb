{
 "cells": [
  {
   "cell_type": "code",
   "execution_count": 1,
   "metadata": {},
   "outputs": [],
   "source": [
    "import pandas as pd\n",
    "import sqlite3\n",
    "import plotly.graph_objs as go\n",
    "from get_rank import get_rank_table\n",
    "from display_individual_data import dispIndvData"
   ]
  },
  {
   "cell_type": "code",
   "execution_count": 2,
   "metadata": {},
   "outputs": [],
   "source": [
    "rank_table = get_rank_table()"
   ]
  },
  {
   "cell_type": "code",
   "execution_count": 3,
   "metadata": {},
   "outputs": [],
   "source": [
    "trace = []"
   ]
  },
  {
   "cell_type": "code",
   "execution_count": 4,
   "metadata": {},
   "outputs": [],
   "source": [
    "for (i,j) in zip(rank_table['EMNO'], rank_table['Name']):\n",
    "    \n",
    "    indv_data = dispIndvData(i)\n",
    "    league = indv_data[0]\n",
    "    league.dropna(inplace=True)\n",
    "    trace.append(go.Scatter(x=league[\"Match\"], y=league[\"Points\"].cumsum(), name=j, mode='lines',\n",
    "            marker={'size': 8, \"opacity\": 0.6, \"line\": {'width': 0.5}}, ))"
   ]
  },
  {
   "cell_type": "code",
   "execution_count": 5,
   "metadata": {},
   "outputs": [
    {
     "data": {
      "text/plain": [
       "[Scatter({\n",
       "     'marker': {'line': {'width': 0.5}, 'opacity': 0.6, 'size': 8},\n",
       "     'mode': 'lines',\n",
       "     'name': 'NINAD DIGHE',\n",
       "     'x': array(['Pakistan vs Sri Lanka', 'England vs Bangladesh',\n",
       "                 'Afganistan vs New Zealand', 'Australia vs India',\n",
       "                 'South Africa vs West Indies', 'Bangladesh vs Sri Lanka',\n",
       "                 'Pakistan vs Australia', 'India vs New Zealand',\n",
       "                 'England vs West Indies', 'Australia vs Sri Lanka',\n",
       "                 'Afganistan vs South Africa', 'India vs Pakistan',\n",
       "                 'Bangladesh vs West Indies', 'England vs Afganistan',\n",
       "                 'New Zealand vs South Africa', 'Australia vs Bangladesh',\n",
       "                 'England vs Sri Lanka', 'India vs Afganistan',\n",
       "                 'New Zealand vs West Indies', 'Pakistan vs South Africa',\n",
       "                 'Afganistan vs Bangladesh', 'England vs Australia',\n",
       "                 'Pakistan vs New Zealand', 'India vs West Indies'], dtype=object),\n",
       "     'y': array([  5.,  15.,  25.,  35.,  40.,  45.,  55.,  60.,  70.,  80.,  90., 100.,\n",
       "                 110., 120., 130., 140., 140., 150., 160., 170., 180., 180., 180., 190.])\n",
       " }), Scatter({\n",
       "     'marker': {'line': {'width': 0.5}, 'opacity': 0.6, 'size': 8},\n",
       "     'mode': 'lines',\n",
       "     'name': 'YOGESH GADEKAR',\n",
       "     'x': array(['Pakistan vs Sri Lanka', 'England vs Bangladesh',\n",
       "                 'Afganistan vs New Zealand', 'Australia vs India',\n",
       "                 'South Africa vs West Indies', 'Bangladesh vs Sri Lanka',\n",
       "                 'Pakistan vs Australia', 'India vs New Zealand',\n",
       "                 'England vs West Indies', 'Australia vs Sri Lanka',\n",
       "                 'Afganistan vs South Africa', 'India vs Pakistan',\n",
       "                 'Bangladesh vs West Indies', 'England vs Afganistan',\n",
       "                 'New Zealand vs South Africa', 'Australia vs Bangladesh',\n",
       "                 'England vs Sri Lanka', 'India vs Afganistan',\n",
       "                 'New Zealand vs West Indies', 'Pakistan vs South Africa',\n",
       "                 'Afganistan vs Bangladesh', 'England vs Australia',\n",
       "                 'Pakistan vs New Zealand', 'India vs West Indies'], dtype=object),\n",
       "     'y': array([  5.,  15.,  25.,  25.,  30.,  35.,  45.,  50.,  60.,  70.,  80.,  90.,\n",
       "                  90., 100., 110., 120., 120., 130., 140., 140., 150., 160., 170., 180.])\n",
       " }), Scatter({\n",
       "     'marker': {'line': {'width': 0.5}, 'opacity': 0.6, 'size': 8},\n",
       "     'mode': 'lines',\n",
       "     'name': 'SAMEER KUNJEER',\n",
       "     'x': array(['Pakistan vs Sri Lanka', 'England vs Bangladesh',\n",
       "                 'Afganistan vs New Zealand', 'Australia vs India',\n",
       "                 'South Africa vs West Indies', 'Bangladesh vs Sri Lanka',\n",
       "                 'Pakistan vs Australia', 'India vs New Zealand',\n",
       "                 'England vs West Indies', 'Australia vs Sri Lanka',\n",
       "                 'Afganistan vs South Africa', 'India vs Pakistan',\n",
       "                 'Bangladesh vs West Indies', 'England vs Afganistan',\n",
       "                 'New Zealand vs South Africa', 'Australia vs Bangladesh',\n",
       "                 'England vs Sri Lanka', 'India vs Afganistan',\n",
       "                 'New Zealand vs West Indies', 'Pakistan vs South Africa',\n",
       "                 'Afganistan vs Bangladesh', 'England vs Australia',\n",
       "                 'Pakistan vs New Zealand', 'India vs West Indies'], dtype=object),\n",
       "     'y': array([  5.,  15.,  25.,  25.,  30.,  35.,  45.,  50.,  60.,  70.,  80.,  90.,\n",
       "                  90., 100., 110., 120., 120., 130., 140., 150., 160., 170., 170., 180.])\n",
       " }), Scatter({\n",
       "     'marker': {'line': {'width': 0.5}, 'opacity': 0.6, 'size': 8},\n",
       "     'mode': 'lines',\n",
       "     'name': 'NILESHKUMAR PATEL',\n",
       "     'x': array(['Pakistan vs Sri Lanka', 'England vs Bangladesh',\n",
       "                 'Afganistan vs New Zealand', 'Australia vs India',\n",
       "                 'South Africa vs West Indies', 'Bangladesh vs Sri Lanka',\n",
       "                 'Pakistan vs Australia', 'India vs New Zealand',\n",
       "                 'England vs West Indies', 'Australia vs Sri Lanka',\n",
       "                 'Afganistan vs South Africa', 'India vs Pakistan',\n",
       "                 'Bangladesh vs West Indies', 'England vs Afganistan',\n",
       "                 'New Zealand vs South Africa', 'Australia vs Bangladesh',\n",
       "                 'England vs Sri Lanka', 'India vs Afganistan',\n",
       "                 'New Zealand vs West Indies', 'Pakistan vs South Africa',\n",
       "                 'Afganistan vs Bangladesh', 'England vs Australia',\n",
       "                 'Pakistan vs New Zealand', 'India vs West Indies'], dtype=object),\n",
       "     'y': array([  5.,  15.,  25.,  25.,  30.,  35.,  45.,  50.,  60.,  70.,  80.,  90.,\n",
       "                  90., 100., 110., 120., 120., 130., 140., 140., 150., 160., 160., 170.])\n",
       " }), Scatter({\n",
       "     'marker': {'line': {'width': 0.5}, 'opacity': 0.6, 'size': 8},\n",
       "     'mode': 'lines',\n",
       "     'name': 'VIKRANT YADAV',\n",
       "     'x': array(['Pakistan vs Sri Lanka', 'England vs Bangladesh',\n",
       "                 'Afganistan vs New Zealand', 'Australia vs India',\n",
       "                 'South Africa vs West Indies', 'Bangladesh vs Sri Lanka',\n",
       "                 'Pakistan vs Australia', 'India vs New Zealand',\n",
       "                 'England vs West Indies', 'Australia vs Sri Lanka',\n",
       "                 'Afganistan vs South Africa', 'India vs Pakistan',\n",
       "                 'Bangladesh vs West Indies', 'England vs Afganistan',\n",
       "                 'New Zealand vs South Africa', 'Australia vs Bangladesh',\n",
       "                 'England vs Sri Lanka', 'India vs Afganistan',\n",
       "                 'New Zealand vs West Indies', 'Pakistan vs South Africa',\n",
       "                 'Afganistan vs Bangladesh', 'England vs Australia',\n",
       "                 'Pakistan vs New Zealand', 'India vs West Indies'], dtype=object),\n",
       "     'y': array([  5.,  15.,  25.,  35.,  40.,  45.,  55.,  60.,  60.,  70.,  80.,  90.,\n",
       "                  90., 100., 100., 110., 110., 120., 130., 140., 140., 150., 150., 160.])\n",
       " }), Scatter({\n",
       "     'marker': {'line': {'width': 0.5}, 'opacity': 0.6, 'size': 8},\n",
       "     'mode': 'lines',\n",
       "     'name': 'CHAITANYA ',\n",
       "     'x': array(['Pakistan vs Sri Lanka', 'England vs Bangladesh',\n",
       "                 'Afganistan vs New Zealand', 'Australia vs India',\n",
       "                 'South Africa vs West Indies', 'Bangladesh vs Sri Lanka',\n",
       "                 'Pakistan vs Australia', 'India vs New Zealand',\n",
       "                 'England vs West Indies', 'Australia vs Sri Lanka',\n",
       "                 'Afganistan vs South Africa', 'India vs Pakistan',\n",
       "                 'Bangladesh vs West Indies', 'England vs Afganistan',\n",
       "                 'New Zealand vs South Africa', 'Australia vs Bangladesh',\n",
       "                 'England vs Sri Lanka', 'India vs Afganistan',\n",
       "                 'New Zealand vs West Indies', 'Pakistan vs South Africa',\n",
       "                 'Afganistan vs Bangladesh', 'England vs Australia',\n",
       "                 'Pakistan vs New Zealand', 'India vs West Indies'], dtype=object),\n",
       "     'y': array([  5.,  15.,  25.,  35.,  40.,  45.,  55.,  60.,  70.,  80.,  80.,  90.,\n",
       "                  90., 100., 110., 120., 120., 130., 140., 140., 140., 150., 150., 160.])\n",
       " })]"
      ]
     },
     "execution_count": 5,
     "metadata": {},
     "output_type": "execute_result"
    }
   ],
   "source": [
    "trace"
   ]
  },
  {
   "cell_type": "code",
   "execution_count": null,
   "metadata": {},
   "outputs": [],
   "source": []
  }
 ],
 "metadata": {
  "kernelspec": {
   "display_name": "Python 3",
   "language": "python",
   "name": "python3"
  },
  "language_info": {
   "codemirror_mode": {
    "name": "ipython",
    "version": 3
   },
   "file_extension": ".py",
   "mimetype": "text/x-python",
   "name": "python",
   "nbconvert_exporter": "python",
   "pygments_lexer": "ipython3",
   "version": "3.6.5"
  }
 },
 "nbformat": 4,
 "nbformat_minor": 2
}
