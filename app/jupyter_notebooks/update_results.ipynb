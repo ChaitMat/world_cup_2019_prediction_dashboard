{
 "cells": [
  {
   "cell_type": "code",
   "execution_count": 11,
   "metadata": {},
   "outputs": [],
   "source": [
    "import requests\n",
    "import bs4\n",
    "from bs4 import BeautifulSoup\n",
    "import pandas as pd\n",
    "import sqlite3"
   ]
  },
  {
   "cell_type": "code",
   "execution_count": 2,
   "metadata": {},
   "outputs": [],
   "source": [
    "page = requests.get('https://www.standard.co.uk/sport/cricket/cricket-world-cup-2019-results-and-standings-full-table-for-tournament-group-stage-a4174011.html')"
   ]
  },
  {
   "cell_type": "code",
   "execution_count": 3,
   "metadata": {
    "scrolled": true
   },
   "outputs": [],
   "source": [
    "cricPage = BeautifulSoup(page.content, 'html.parser')"
   ]
  },
  {
   "cell_type": "code",
   "execution_count": 4,
   "metadata": {},
   "outputs": [],
   "source": [
    "resultTable = cricPage.find_all('table')[1].find_all('tr')"
   ]
  },
  {
   "cell_type": "code",
   "execution_count": 5,
   "metadata": {},
   "outputs": [],
   "source": [
    "resultList = []\n",
    "\n",
    "for match in resultTable:\n",
    "    row = list(match.children)\n",
    "    resultStr = list(row[1].children)\n",
    "    dateStr= list(row[3].children)\n",
    "    if type(resultStr[0]) == bs4.element.Tag:\n",
    "        resultText = resultStr[0].get_text()       \n",
    "    else:\n",
    "        resultText = resultStr[0]\n",
    "        \n",
    "   \n",
    "        \n",
    "    if type(dateStr[0]) == bs4.element.Tag:\n",
    "        dateText = (dateStr[0].get_text()) + ' 2019 00:00:00'\n",
    "    else: \n",
    "        dateText = (dateStr[0]) + ' 2019 00:00:00'\n",
    "        \n",
    "        \n",
    "        \n",
    "    if 'bt' in resultText:\n",
    "        resultDict = {}\n",
    "        textSplit = resultText.split(\"bt\")\n",
    "        resultDict['Date'] = dateText\n",
    "        resultDict['Result'] = textSplit[0].rstrip()\n",
    "        resultList.append(resultDict)\n",
    "        \n",
    "    elif 'vs' and '(Rained off)' in resultText:\n",
    "        resultDict = {}\n",
    "        resultDict['Date'] = dateText\n",
    "        resultDict['Result'] = 'NR'\n",
    "        resultList.append(resultDict)"
   ]
  },
  {
   "cell_type": "code",
   "execution_count": 6,
   "metadata": {},
   "outputs": [],
   "source": [
    "df = pd.DataFrame(resultList)"
   ]
  },
  {
   "cell_type": "code",
   "execution_count": 7,
   "metadata": {
    "scrolled": true
   },
   "outputs": [],
   "source": [
    "df['Date'] = pd.to_datetime(df['Date'])"
   ]
  },
  {
   "cell_type": "code",
   "execution_count": 8,
   "metadata": {},
   "outputs": [],
   "source": [
    "updated_results = df[df['Date'] > '2019-06-06'].reset_index(drop =True)"
   ]
  },
  {
   "cell_type": "code",
   "execution_count": 12,
   "metadata": {},
   "outputs": [],
   "source": [
    "conn = sqlite3.connect('../database/results.sqlite')"
   ]
  },
  {
   "cell_type": "code",
   "execution_count": 13,
   "metadata": {},
   "outputs": [],
   "source": [
    "updated_results.to_sql(\"results\", conn, if_exists= 'replace', index = False)"
   ]
  },
  {
   "cell_type": "code",
   "execution_count": 14,
   "metadata": {},
   "outputs": [],
   "source": [
    "conn.close()"
   ]
  },
  {
   "cell_type": "code",
   "execution_count": null,
   "metadata": {},
   "outputs": [],
   "source": []
  }
 ],
 "metadata": {
  "kernelspec": {
   "display_name": "Python 3",
   "language": "python",
   "name": "python3"
  },
  "language_info": {
   "codemirror_mode": {
    "name": "ipython",
    "version": 3
   },
   "file_extension": ".py",
   "mimetype": "text/x-python",
   "name": "python",
   "nbconvert_exporter": "python",
   "pygments_lexer": "ipython3",
   "version": "3.6.5"
  }
 },
 "nbformat": 4,
 "nbformat_minor": 2
}
