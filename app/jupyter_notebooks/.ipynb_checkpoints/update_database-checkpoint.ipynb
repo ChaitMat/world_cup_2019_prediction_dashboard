{
 "cells": [
  {
   "cell_type": "code",
   "execution_count": 45,
   "metadata": {},
   "outputs": [],
   "source": [
    "import requests\n",
    "import bs4\n",
    "from bs4 import BeautifulSoup"
   ]
  },
  {
   "cell_type": "code",
   "execution_count": 46,
   "metadata": {},
   "outputs": [],
   "source": [
    "page = requests.get('https://www.standard.co.uk/sport/cricket/cricket-world-cup-2019-results-and-standings-full-table-for-tournament-group-stage-a4174011.html')"
   ]
  },
  {
   "cell_type": "code",
   "execution_count": 47,
   "metadata": {
    "scrolled": true
   },
   "outputs": [],
   "source": [
    "cricPage = BeautifulSoup(page.content, 'html.parser')"
   ]
  },
  {
   "cell_type": "code",
   "execution_count": 48,
   "metadata": {},
   "outputs": [],
   "source": [
    "resultTable = cricPage.find_all('table')[1].find_all('tr')"
   ]
  },
  {
   "cell_type": "code",
   "execution_count": 59,
   "metadata": {},
   "outputs": [
    {
     "name": "stdout",
     "output_type": "stream",
     "text": [
      "May 30\n",
      "May 31\n",
      "June 1\n",
      "June 1\n",
      "June 2\n",
      "June 3\n",
      "June 4\n",
      "June 5\n",
      "June 5\n",
      "June 6\n",
      "June 7\n",
      "June 8\n",
      "June 8\n",
      "June 9\n",
      "June 10\n",
      "June 11\n",
      "June 12\n",
      "June 13\n",
      "June 14\n",
      "June 15\n",
      "June 15\n",
      "June 16\n",
      "June 17\n",
      "June 18\n",
      "June 19\n",
      "June 20\n",
      "June 21\n",
      "June 22\n",
      "June 22\n",
      "June 23\n",
      "June 24\n",
      "June 25\n",
      "June 26\n",
      "June 27\n",
      "June 28\n",
      "June 29\n",
      "June 29\n",
      "June 30\n",
      "July 1\n",
      "July 2\n",
      "July 3\n",
      "July 4\n",
      "July 5\n",
      "July 6\n",
      "July 6\n",
      "July 9\n",
      "July 11\n",
      "July 14\n"
     ]
    }
   ],
   "source": [
    "resultList = []\n",
    "\n",
    "for match in resultTable:\n",
    "    row = list(match.children)\n",
    "    resultStr = list(row[1].children)\n",
    "    dateStr= list(row[3].children)\n",
    "    if type(resultStr[0]) == bs4.element.Tag:\n",
    "        resultText = resultStr[0].get_text()       \n",
    "    else:\n",
    "        resultText = resultStr[0]\n",
    "        \n",
    "    resultDict = {}\n",
    "        \n",
    "    if type(dateStr[0]) == bs4.element.Tag:\n",
    "        dateText = dateStr[0].get_text()\n",
    "    else:\n",
    "        dateText = dateStr[0]\n",
    "        resultDict[]\n",
    "    \n",
    "\n",
    "    if 'bt' in resultText:\n",
    "        textSplit = resultText.split(\" \")\n",
    "        "
   ]
  },
  {
   "cell_type": "code",
   "execution_count": 27,
   "metadata": {},
   "outputs": [],
   "source": [
    "row = list(resultTable[0].children)"
   ]
  },
  {
   "cell_type": "code",
   "execution_count": 29,
   "metadata": {},
   "outputs": [],
   "source": [
    "column1 = list(row[1].children)"
   ]
  },
  {
   "cell_type": "code",
   "execution_count": 41,
   "metadata": {},
   "outputs": [],
   "source": [
    "tag = type(column1[0])"
   ]
  },
  {
   "cell_type": "code",
   "execution_count": 42,
   "metadata": {},
   "outputs": [
    {
     "data": {
      "text/plain": [
       "type"
      ]
     },
     "execution_count": 42,
     "metadata": {},
     "output_type": "execute_result"
    }
   ],
   "source": [
    "type(tag)"
   ]
  },
  {
   "cell_type": "code",
   "execution_count": 33,
   "metadata": {},
   "outputs": [
    {
     "data": {
      "text/plain": [
       "'England bt South Africa by 104 runs'"
      ]
     },
     "execution_count": 33,
     "metadata": {},
     "output_type": "execute_result"
    }
   ],
   "source": [
    "column1[0].get_text()"
   ]
  },
  {
   "cell_type": "code",
   "execution_count": 43,
   "metadata": {},
   "outputs": [
    {
     "data": {
      "text/plain": [
       "str"
      ]
     },
     "execution_count": 43,
     "metadata": {},
     "output_type": "execute_result"
    }
   ],
   "source": [
    "type(\"sk\")"
   ]
  },
  {
   "cell_type": "code",
   "execution_count": 54,
   "metadata": {},
   "outputs": [
    {
     "data": {
      "text/plain": [
       "True"
      ]
     },
     "execution_count": 54,
     "metadata": {},
     "output_type": "execute_result"
    }
   ],
   "source": [
    "'bt' in 'India bt Afghanistan by 11 runs'"
   ]
  },
  {
   "cell_type": "code",
   "execution_count": null,
   "metadata": {},
   "outputs": [],
   "source": []
  }
 ],
 "metadata": {
  "kernelspec": {
   "display_name": "Python 3",
   "language": "python",
   "name": "python3"
  },
  "language_info": {
   "codemirror_mode": {
    "name": "ipython",
    "version": 3
   },
   "file_extension": ".py",
   "mimetype": "text/x-python",
   "name": "python",
   "nbconvert_exporter": "python",
   "pygments_lexer": "ipython3",
   "version": "3.6.5"
  }
 },
 "nbformat": 4,
 "nbformat_minor": 2
}
